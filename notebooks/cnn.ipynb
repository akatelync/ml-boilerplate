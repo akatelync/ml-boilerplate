{
 "cells": [
  {
   "cell_type": "code",
   "execution_count": 106,
   "id": "81c059ac",
   "metadata": {},
   "outputs": [
    {
     "name": "stdout",
     "output_type": "stream",
     "text": [
      "The autoreload extension is already loaded. To reload it, use:\n",
      "  %reload_ext autoreload\n"
     ]
    }
   ],
   "source": [
    "%load_ext autoreload\n",
    "%autoreload 2\n",
    "\n",
    "import sys\n",
    "sys.path.append(\"..\")  # Go up one directory level\n",
    "\n",
    "from src.torch_utils import train_model"
   ]
  },
  {
   "cell_type": "code",
   "execution_count": 103,
   "id": "ac289335",
   "metadata": {},
   "outputs": [],
   "source": [
    "import os\n",
    "import random\n",
    "import numpy as np\n",
    "\n",
    "import torch\n",
    "import torch.nn as nn\n",
    "import torch.optim as optim\n",
    "import torchvision.models as models\n",
    "\n",
    "from tqdm import tqdm\n",
    "from torchinfo import summary\n",
    "from torchvision import datasets, transforms\n",
    "from torch.utils.data import (\n",
    "    Subset,\n",
    "    random_split,\n",
    "    DataLoader,\n",
    "    TensorDataset\n",
    ")\n",
    "\n",
    "seed = 7\n",
    "generator = torch.Generator().manual_seed(7)\n",
    "torch.manual_seed(seed)\n",
    "np.random.seed(seed)\n",
    "random.seed(seed)\n",
    "generator = torch.Generator().manual_seed(seed)"
   ]
  },
  {
   "cell_type": "code",
   "execution_count": 66,
   "id": "798a4980",
   "metadata": {},
   "outputs": [
    {
     "name": "stdout",
     "output_type": "stream",
     "text": [
      "Is MPS available: True\n",
      "MPS device exists: True\n"
     ]
    }
   ],
   "source": [
    "print(f\"Is MPS available: {torch.backends.mps.is_available()}\")\n",
    "print(f\"MPS device exists: {torch.backends.mps.is_built()}\")"
   ]
  },
  {
   "cell_type": "markdown",
   "id": "c7a0fdab",
   "metadata": {},
   "source": [
    "## Prepare Data Directories"
   ]
  },
  {
   "cell_type": "code",
   "execution_count": 67,
   "id": "2a5f3feb",
   "metadata": {},
   "outputs": [],
   "source": [
    "base_path = \"../data/dogs-vs-cats-all/\""
   ]
  },
  {
   "cell_type": "code",
   "execution_count": 68,
   "id": "95d9c45d",
   "metadata": {},
   "outputs": [],
   "source": [
    "os.makedirs(os.path.join(base_path, \"working/train\"), exist_ok=True)\n",
    "os.makedirs(os.path.join(base_path, \"working/train/dogs\"), exist_ok=True)\n",
    "os.makedirs(os.path.join(base_path, \"working/train/cats\"), exist_ok=True)"
   ]
  },
  {
   "cell_type": "code",
   "execution_count": 69,
   "id": "fddb4f8e",
   "metadata": {},
   "outputs": [],
   "source": [
    "for train_img in os.listdir(os.path.join(base_path, \"train\")):\n",
    "    src = os.path.join(base_path, \"train\", train_img)\n",
    "    \n",
    "    if train_img.startswith(\"dog\"):\n",
    "        dst = os.path.join(base_path, \"working/train/dogs\", train_img)\n",
    "    elif train_img.startswith(\"cat\"):\n",
    "        dst = os.path.join(base_path, \"working/train/cats\", train_img)\n",
    "    \n",
    "    os.rename(src, dst)"
   ]
  },
  {
   "cell_type": "markdown",
   "id": "0b191dcd",
   "metadata": {},
   "source": [
    "## Create DataLoaders"
   ]
  },
  {
   "cell_type": "code",
   "execution_count": 70,
   "id": "57e9f5ee",
   "metadata": {},
   "outputs": [],
   "source": [
    "# IMAGE_SIZE = 150\n",
    "# BATCH_SIZE = 64"
   ]
  },
  {
   "cell_type": "code",
   "execution_count": 88,
   "id": "eb2cd27c",
   "metadata": {},
   "outputs": [],
   "source": [
    "IMAGE_SIZE = 150\n",
    "\n",
    "transform = transforms.Compose([\n",
    "    transforms.Resize((IMAGE_SIZE, IMAGE_SIZE)),\n",
    "    transforms.ToTensor(),\n",
    "])\n",
    "\n",
    "dataset = datasets.ImageFolder(os.path.join(base_path, \"working/train\"), transform=transform)"
   ]
  },
  {
   "cell_type": "code",
   "execution_count": 89,
   "id": "ea43b249",
   "metadata": {},
   "outputs": [],
   "source": [
    "subset_size = 500\n",
    "full_size = len(dataset)\n",
    "\n",
    "subset_indices = random.sample(range(full_size), subset_size)\n",
    "subset_dataset = Subset(dataset, subset_indices)"
   ]
  },
  {
   "cell_type": "code",
   "execution_count": 90,
   "id": "82c3ffd6",
   "metadata": {},
   "outputs": [],
   "source": [
    "train_size = int(0.8 * len(subset_dataset))\n",
    "val_size = len(subset_dataset) - train_size\n",
    "\n",
    "train_dataset, val_dataset = random_split(\n",
    "    subset_dataset,\n",
    "    [train_size, val_size],\n",
    "    generator=generator\n",
    ")"
   ]
  },
  {
   "cell_type": "code",
   "execution_count": 91,
   "id": "4c6b2e3c",
   "metadata": {},
   "outputs": [],
   "source": [
    "BATCH_SIZE = 64\n",
    "\n",
    "train_loader = DataLoader(train_dataset, batch_size=BATCH_SIZE, shuffle=True)\n",
    "val_loader = DataLoader(val_dataset, batch_size=BATCH_SIZE, shuffle=False)"
   ]
  },
  {
   "cell_type": "markdown",
   "id": "4e102af9",
   "metadata": {},
   "source": [
    "## Train Model: Two-Stage Approach\n",
    "- Extracts features first, then trains classifier\n",
    "- Data augmentation not possible here"
   ]
  },
  {
   "cell_type": "markdown",
   "id": "3352247c",
   "metadata": {},
   "source": [
    "### Feature Extraction"
   ]
  },
  {
   "cell_type": "code",
   "execution_count": 92,
   "id": "e8f62e27",
   "metadata": {},
   "outputs": [
    {
     "name": "stdout",
     "output_type": "stream",
     "text": [
      "mps\n"
     ]
    }
   ],
   "source": [
    "# device = torch.device(\"cuda:0\" if torch.cuda.is_available() else \"cpu\")\n",
    "DEVICE = torch.device(\"mps\" if torch.backends.mps.is_available() else \"cpu\")\n",
    "print(DEVICE)"
   ]
  },
  {
   "cell_type": "code",
   "execution_count": 93,
   "id": "34235248",
   "metadata": {},
   "outputs": [
    {
     "name": "stderr",
     "output_type": "stream",
     "text": [
      "/Users/kate/Documents/repos/ml-boilerplate/.venv/lib/python3.13/site-packages/torchvision/models/_utils.py:208: UserWarning: The parameter 'pretrained' is deprecated since 0.13 and may be removed in the future, please use 'weights' instead.\n",
      "  warnings.warn(\n",
      "/Users/kate/Documents/repos/ml-boilerplate/.venv/lib/python3.13/site-packages/torchvision/models/_utils.py:223: UserWarning: Arguments other than a weight enum or `None` for 'weights' are deprecated since 0.13 and may be removed in the future. The current behavior is equivalent to passing `weights=VGG16_Weights.IMAGENET1K_V1`. You can also use `weights=VGG16_Weights.DEFAULT` to get the most up-to-date weights.\n",
      "  warnings.warn(msg)\n"
     ]
    },
    {
     "data": {
      "text/plain": [
       "==========================================================================================\n",
       "Layer (type:depth-idx)                   Output Shape              Param #\n",
       "==========================================================================================\n",
       "VGG                                      [1, 1000]                 --\n",
       "├─Sequential: 1-1                        [1, 512, 4, 4]            --\n",
       "│    └─Conv2d: 2-1                       [1, 64, 150, 150]         1,792\n",
       "│    └─ReLU: 2-2                         [1, 64, 150, 150]         --\n",
       "│    └─Conv2d: 2-3                       [1, 64, 150, 150]         36,928\n",
       "│    └─ReLU: 2-4                         [1, 64, 150, 150]         --\n",
       "│    └─MaxPool2d: 2-5                    [1, 64, 75, 75]           --\n",
       "│    └─Conv2d: 2-6                       [1, 128, 75, 75]          73,856\n",
       "│    └─ReLU: 2-7                         [1, 128, 75, 75]          --\n",
       "│    └─Conv2d: 2-8                       [1, 128, 75, 75]          147,584\n",
       "│    └─ReLU: 2-9                         [1, 128, 75, 75]          --\n",
       "│    └─MaxPool2d: 2-10                   [1, 128, 37, 37]          --\n",
       "│    └─Conv2d: 2-11                      [1, 256, 37, 37]          295,168\n",
       "│    └─ReLU: 2-12                        [1, 256, 37, 37]          --\n",
       "│    └─Conv2d: 2-13                      [1, 256, 37, 37]          590,080\n",
       "│    └─ReLU: 2-14                        [1, 256, 37, 37]          --\n",
       "│    └─Conv2d: 2-15                      [1, 256, 37, 37]          590,080\n",
       "│    └─ReLU: 2-16                        [1, 256, 37, 37]          --\n",
       "│    └─MaxPool2d: 2-17                   [1, 256, 18, 18]          --\n",
       "│    └─Conv2d: 2-18                      [1, 512, 18, 18]          1,180,160\n",
       "│    └─ReLU: 2-19                        [1, 512, 18, 18]          --\n",
       "│    └─Conv2d: 2-20                      [1, 512, 18, 18]          2,359,808\n",
       "│    └─ReLU: 2-21                        [1, 512, 18, 18]          --\n",
       "│    └─Conv2d: 2-22                      [1, 512, 18, 18]          2,359,808\n",
       "│    └─ReLU: 2-23                        [1, 512, 18, 18]          --\n",
       "│    └─MaxPool2d: 2-24                   [1, 512, 9, 9]            --\n",
       "│    └─Conv2d: 2-25                      [1, 512, 9, 9]            2,359,808\n",
       "│    └─ReLU: 2-26                        [1, 512, 9, 9]            --\n",
       "│    └─Conv2d: 2-27                      [1, 512, 9, 9]            2,359,808\n",
       "│    └─ReLU: 2-28                        [1, 512, 9, 9]            --\n",
       "│    └─Conv2d: 2-29                      [1, 512, 9, 9]            2,359,808\n",
       "│    └─ReLU: 2-30                        [1, 512, 9, 9]            --\n",
       "│    └─MaxPool2d: 2-31                   [1, 512, 4, 4]            --\n",
       "├─AdaptiveAvgPool2d: 1-2                 [1, 512, 7, 7]            --\n",
       "├─Sequential: 1-3                        [1, 1000]                 --\n",
       "│    └─Linear: 2-32                      [1, 4096]                 102,764,544\n",
       "│    └─ReLU: 2-33                        [1, 4096]                 --\n",
       "│    └─Dropout: 2-34                     [1, 4096]                 --\n",
       "│    └─Linear: 2-35                      [1, 4096]                 16,781,312\n",
       "│    └─ReLU: 2-36                        [1, 4096]                 --\n",
       "│    └─Dropout: 2-37                     [1, 4096]                 --\n",
       "│    └─Linear: 2-38                      [1, 1000]                 4,097,000\n",
       "==========================================================================================\n",
       "Total params: 138,357,544\n",
       "Trainable params: 138,357,544\n",
       "Non-trainable params: 0\n",
       "Total mult-adds (Units.GIGABYTES): 6.75\n",
       "==========================================================================================\n",
       "Input size (MB): 0.27\n",
       "Forward/backward pass size (MB): 48.02\n",
       "Params size (MB): 553.43\n",
       "Estimated Total Size (MB): 601.72\n",
       "=========================================================================================="
      ]
     },
     "execution_count": 93,
     "metadata": {},
     "output_type": "execute_result"
    }
   ],
   "source": [
    "vgg16 = models.vgg16(pretrained=True)\n",
    "vgg16.eval()\n",
    "\n",
    "summary(vgg16, input_size=(1, 3, IMAGE_SIZE, IMAGE_SIZE))"
   ]
  },
  {
   "cell_type": "code",
   "execution_count": 94,
   "id": "d2e34faf",
   "metadata": {},
   "outputs": [
    {
     "data": {
      "text/plain": [
       "Sequential(\n",
       "  (0): Conv2d(3, 64, kernel_size=(3, 3), stride=(1, 1), padding=(1, 1))\n",
       "  (1): ReLU(inplace=True)\n",
       "  (2): Conv2d(64, 64, kernel_size=(3, 3), stride=(1, 1), padding=(1, 1))\n",
       "  (3): ReLU(inplace=True)\n",
       "  (4): MaxPool2d(kernel_size=2, stride=2, padding=0, dilation=1, ceil_mode=False)\n",
       "  (5): Conv2d(64, 128, kernel_size=(3, 3), stride=(1, 1), padding=(1, 1))\n",
       "  (6): ReLU(inplace=True)\n",
       "  (7): Conv2d(128, 128, kernel_size=(3, 3), stride=(1, 1), padding=(1, 1))\n",
       "  (8): ReLU(inplace=True)\n",
       "  (9): MaxPool2d(kernel_size=2, stride=2, padding=0, dilation=1, ceil_mode=False)\n",
       "  (10): Conv2d(128, 256, kernel_size=(3, 3), stride=(1, 1), padding=(1, 1))\n",
       "  (11): ReLU(inplace=True)\n",
       "  (12): Conv2d(256, 256, kernel_size=(3, 3), stride=(1, 1), padding=(1, 1))\n",
       "  (13): ReLU(inplace=True)\n",
       "  (14): Conv2d(256, 256, kernel_size=(3, 3), stride=(1, 1), padding=(1, 1))\n",
       "  (15): ReLU(inplace=True)\n",
       "  (16): MaxPool2d(kernel_size=2, stride=2, padding=0, dilation=1, ceil_mode=False)\n",
       "  (17): Conv2d(256, 512, kernel_size=(3, 3), stride=(1, 1), padding=(1, 1))\n",
       "  (18): ReLU(inplace=True)\n",
       "  (19): Conv2d(512, 512, kernel_size=(3, 3), stride=(1, 1), padding=(1, 1))\n",
       "  (20): ReLU(inplace=True)\n",
       "  (21): Conv2d(512, 512, kernel_size=(3, 3), stride=(1, 1), padding=(1, 1))\n",
       "  (22): ReLU(inplace=True)\n",
       "  (23): MaxPool2d(kernel_size=2, stride=2, padding=0, dilation=1, ceil_mode=False)\n",
       "  (24): Conv2d(512, 512, kernel_size=(3, 3), stride=(1, 1), padding=(1, 1))\n",
       "  (25): ReLU(inplace=True)\n",
       "  (26): Conv2d(512, 512, kernel_size=(3, 3), stride=(1, 1), padding=(1, 1))\n",
       "  (27): ReLU(inplace=True)\n",
       "  (28): Conv2d(512, 512, kernel_size=(3, 3), stride=(1, 1), padding=(1, 1))\n",
       "  (29): ReLU(inplace=True)\n",
       "  (30): MaxPool2d(kernel_size=2, stride=2, padding=0, dilation=1, ceil_mode=False)\n",
       ")"
      ]
     },
     "execution_count": 94,
     "metadata": {},
     "output_type": "execute_result"
    }
   ],
   "source": [
    "feature_extractor = vgg16.features.to(DEVICE)\n",
    "feature_extractor.eval()"
   ]
  },
  {
   "cell_type": "code",
   "execution_count": 95,
   "id": "b0ea3a1c",
   "metadata": {},
   "outputs": [],
   "source": [
    "## EXTRACT FEATURES\n",
    "\n",
    "def extract_features(dataloader, num_samples):\n",
    "    \"\"\"Extract features from images using pretrained model\"\"\"\n",
    "    \n",
    "    sample_batch, _ = next(iter(dataloader))\n",
    "    sample_input = sample_batch[0:1].to(DEVICE)\n",
    "    \n",
    "    with torch.no_grad():\n",
    "        sample_output = feature_extractor(sample_input)\n",
    "        \n",
    "    _, num_channels, height, width = sample_output.shape\n",
    "    print(f\"Feature shape from pretrained model: {sample_output.shape} for input shape {sample_input.shape}\")\n",
    "    \n",
    "    features = torch.zeros((num_samples, num_channels, height, width))\n",
    "    labels = torch.zeros(num_samples)\n",
    "    \n",
    "    new_dataloader = DataLoader(\n",
    "        dataloader.dataset,\n",
    "        batch_size=dataloader.batch_size,\n",
    "        shuffle=False\n",
    "    )\n",
    "    \n",
    "    count = 0\n",
    "    with torch.no_grad():\n",
    "        for inputs, targets in tqdm(new_dataloader):\n",
    "            batch_size = min(inputs.size(0), num_samples - count)\n",
    "            if batch_size <= 0:\n",
    "                break\n",
    "                \n",
    "            batch_features = feature_extractor(inputs[:batch_size].to(DEVICE))\n",
    "            features[count:count+batch_size] = batch_features.cpu()\n",
    "            labels[count:count+batch_size] = targets[:batch_size]\n",
    "            count += batch_size\n",
    "    \n",
    "    feature_dim = num_channels * height * width\n",
    "    features_flat = features.view(num_samples, feature_dim)\n",
    "    \n",
    "    return features_flat, labels"
   ]
  },
  {
   "cell_type": "code",
   "execution_count": 96,
   "id": "99ec9308",
   "metadata": {},
   "outputs": [
    {
     "name": "stdout",
     "output_type": "stream",
     "text": [
      "Feature shape from pretrained model: torch.Size([1, 512, 4, 4]) for input shape torch.Size([1, 3, 150, 150])\n"
     ]
    },
    {
     "name": "stderr",
     "output_type": "stream",
     "text": [
      "100%|██████████| 7/7 [00:06<00:00,  1.11it/s]\n"
     ]
    },
    {
     "name": "stdout",
     "output_type": "stream",
     "text": [
      "Feature shape from pretrained model: torch.Size([1, 512, 4, 4]) for input shape torch.Size([1, 3, 150, 150])\n"
     ]
    },
    {
     "name": "stderr",
     "output_type": "stream",
     "text": [
      "100%|██████████| 2/2 [00:01<00:00,  1.60it/s]\n"
     ]
    }
   ],
   "source": [
    "train_features, train_labels = extract_features(train_loader, train_size)\n",
    "val_features, val_labels = extract_features(val_loader, val_size)"
   ]
  },
  {
   "cell_type": "markdown",
   "id": "6b78c46f",
   "metadata": {},
   "source": [
    "### Classifier Training"
   ]
  },
  {
   "cell_type": "code",
   "execution_count": 99,
   "id": "b251856f",
   "metadata": {},
   "outputs": [],
   "source": [
    "train_dataset = TensorDataset(train_features, train_labels.unsqueeze(1))\n",
    "val_dataset = TensorDataset(val_features, val_labels.unsqueeze(1))\n",
    "\n",
    "train_loader = DataLoader(train_dataset, batch_size=BATCH_SIZE, shuffle=True)\n",
    "val_loader = DataLoader(val_dataset, batch_size=BATCH_SIZE)"
   ]
  },
  {
   "cell_type": "code",
   "execution_count": 101,
   "id": "9a2ce76d",
   "metadata": {},
   "outputs": [],
   "source": [
    "class SimpleClassifier(nn.Module):\n",
    "    def __init__(self, input_dim, hidden_dim=256, dropout_rate=0.3):\n",
    "        super(SimpleClassifier, self).__init__()\n",
    "        self.classifier = nn.Sequential(\n",
    "            nn.Linear(input_dim, hidden_dim),\n",
    "            nn.ReLU(),\n",
    "            nn.Dropout(dropout_rate),\n",
    "            nn.Linear(hidden_dim, 1),\n",
    "            nn.Sigmoid()\n",
    "        )\n",
    "    \n",
    "    def forward(self, x):\n",
    "        return self.classifier(x)"
   ]
  },
  {
   "cell_type": "code",
   "execution_count": 102,
   "id": "b0b7f548",
   "metadata": {},
   "outputs": [
    {
     "data": {
      "text/plain": [
       "8192"
      ]
     },
     "execution_count": 102,
     "metadata": {},
     "output_type": "execute_result"
    }
   ],
   "source": [
    "train_features.size(1)"
   ]
  },
  {
   "cell_type": "code",
   "execution_count": 104,
   "id": "8f7ee8ed",
   "metadata": {},
   "outputs": [],
   "source": [
    "LEARNING_RATE = 2e-5\n",
    "\n",
    "input_dim = train_features.size(1)\n",
    "model = SimpleClassifier(input_dim).to(DEVICE)\n",
    "criterion = nn.BCELoss()\n",
    "optimizer = optim.RMSprop(model.parameters(), lr=LEARNING_RATE)"
   ]
  },
  {
   "cell_type": "code",
   "execution_count": 107,
   "id": "1b1a6c00",
   "metadata": {},
   "outputs": [
    {
     "name": "stdout",
     "output_type": "stream",
     "text": [
      "\n",
      "Epoch 1/10\n",
      "--------------------\n"
     ]
    },
    {
     "name": "stderr",
     "output_type": "stream",
     "text": [
      "Epoch 1/10 [Train]: 100%|██████████| 7/7 [00:05<00:00,  1.39it/s, loss=0.4566, acc=0.8225]\n",
      "Epoch 1/10 [Val]: 100%|██████████| 2/2 [00:00<00:00,  7.12it/s, loss=0.2938, acc=0.9300]\n"
     ]
    },
    {
     "name": "stdout",
     "output_type": "stream",
     "text": [
      "Train Loss: 0.4566 | Train Acc: 0.8225\n",
      "Val Loss: 0.2938 | Val Acc: 0.9300\n",
      "New best model (val_loss: 0.2938)\n",
      "\n",
      "Epoch 2/10\n",
      "--------------------\n"
     ]
    },
    {
     "name": "stderr",
     "output_type": "stream",
     "text": [
      "Epoch 2/10 [Train]: 100%|██████████| 7/7 [00:00<00:00, 71.75it/s, loss=0.2258, acc=0.9550]\n",
      "Epoch 2/10 [Val]: 100%|██████████| 2/2 [00:00<00:00, 297.13it/s, loss=0.2526, acc=0.9400]\n"
     ]
    },
    {
     "name": "stdout",
     "output_type": "stream",
     "text": [
      "Train Loss: 0.2258 | Train Acc: 0.9550\n",
      "Val Loss: 0.2526 | Val Acc: 0.9400\n",
      "New best model (val_loss: 0.2526)\n",
      "\n",
      "Epoch 3/10\n",
      "--------------------\n"
     ]
    },
    {
     "name": "stderr",
     "output_type": "stream",
     "text": [
      "Epoch 3/10 [Train]: 100%|██████████| 7/7 [00:00<00:00, 81.95it/s, loss=0.1714, acc=0.9600]\n",
      "Epoch 3/10 [Val]: 100%|██████████| 2/2 [00:00<00:00, 251.57it/s, loss=0.2179, acc=0.9300]\n"
     ]
    },
    {
     "name": "stdout",
     "output_type": "stream",
     "text": [
      "Train Loss: 0.1714 | Train Acc: 0.9600\n",
      "Val Loss: 0.2179 | Val Acc: 0.9300\n",
      "New best model (val_loss: 0.2179)\n",
      "\n",
      "Epoch 4/10\n",
      "--------------------\n"
     ]
    },
    {
     "name": "stderr",
     "output_type": "stream",
     "text": [
      "Epoch 4/10 [Train]: 100%|██████████| 7/7 [00:00<00:00, 77.47it/s, loss=0.1370, acc=0.9850]\n",
      "Epoch 4/10 [Val]: 100%|██████████| 2/2 [00:00<00:00, 131.24it/s, loss=0.2055, acc=0.9300]\n"
     ]
    },
    {
     "name": "stdout",
     "output_type": "stream",
     "text": [
      "Train Loss: 0.1370 | Train Acc: 0.9850\n",
      "Val Loss: 0.2055 | Val Acc: 0.9300\n",
      "New best model (val_loss: 0.2055)\n",
      "\n",
      "Epoch 5/10\n",
      "--------------------\n"
     ]
    },
    {
     "name": "stderr",
     "output_type": "stream",
     "text": [
      "Epoch 5/10 [Train]: 100%|██████████| 7/7 [00:00<00:00, 101.22it/s, loss=0.1124, acc=0.9850]\n",
      "Epoch 5/10 [Val]: 100%|██████████| 2/2 [00:00<00:00, 293.51it/s, loss=0.1979, acc=0.9100]\n"
     ]
    },
    {
     "name": "stdout",
     "output_type": "stream",
     "text": [
      "Train Loss: 0.1124 | Train Acc: 0.9850\n",
      "Val Loss: 0.1979 | Val Acc: 0.9100\n",
      "New best model (val_loss: 0.1979)\n",
      "\n",
      "Epoch 6/10\n",
      "--------------------\n"
     ]
    },
    {
     "name": "stderr",
     "output_type": "stream",
     "text": [
      "Epoch 6/10 [Train]: 100%|██████████| 7/7 [00:00<00:00, 95.57it/s, loss=0.1015, acc=0.9950]\n",
      "Epoch 6/10 [Val]: 100%|██████████| 2/2 [00:00<00:00, 247.77it/s, loss=0.1891, acc=0.9600]\n"
     ]
    },
    {
     "name": "stdout",
     "output_type": "stream",
     "text": [
      "Train Loss: 0.1015 | Train Acc: 0.9950\n",
      "Val Loss: 0.1891 | Val Acc: 0.9600\n",
      "New best model (val_loss: 0.1891)\n",
      "\n",
      "Epoch 7/10\n",
      "--------------------\n"
     ]
    },
    {
     "name": "stderr",
     "output_type": "stream",
     "text": [
      "Epoch 7/10 [Train]: 100%|██████████| 7/7 [00:00<00:00, 93.35it/s, loss=0.0881, acc=0.9975]\n",
      "Epoch 7/10 [Val]: 100%|██████████| 2/2 [00:00<00:00, 276.21it/s, loss=0.1856, acc=0.9000]\n"
     ]
    },
    {
     "name": "stdout",
     "output_type": "stream",
     "text": [
      "Train Loss: 0.0881 | Train Acc: 0.9975\n",
      "Val Loss: 0.1856 | Val Acc: 0.9000\n",
      "New best model (val_loss: 0.1856)\n",
      "\n",
      "Epoch 8/10\n",
      "--------------------\n"
     ]
    },
    {
     "name": "stderr",
     "output_type": "stream",
     "text": [
      "Epoch 8/10 [Train]: 100%|██████████| 7/7 [00:00<00:00, 94.98it/s, loss=0.0814, acc=1.0000]\n",
      "Epoch 8/10 [Val]: 100%|██████████| 2/2 [00:00<00:00, 286.42it/s, loss=0.1827, acc=0.9000]\n"
     ]
    },
    {
     "name": "stdout",
     "output_type": "stream",
     "text": [
      "Train Loss: 0.0814 | Train Acc: 1.0000\n",
      "Val Loss: 0.1827 | Val Acc: 0.9000\n",
      "New best model (val_loss: 0.1827)\n",
      "\n",
      "Epoch 9/10\n",
      "--------------------\n"
     ]
    },
    {
     "name": "stderr",
     "output_type": "stream",
     "text": [
      "Epoch 9/10 [Train]: 100%|██████████| 7/7 [00:00<00:00, 111.10it/s, loss=0.0740, acc=0.9975]\n",
      "Epoch 9/10 [Val]: 100%|██████████| 2/2 [00:00<00:00, 282.08it/s, loss=0.1794, acc=0.9200]\n"
     ]
    },
    {
     "name": "stdout",
     "output_type": "stream",
     "text": [
      "Train Loss: 0.0740 | Train Acc: 0.9975\n",
      "Val Loss: 0.1794 | Val Acc: 0.9200\n",
      "New best model (val_loss: 0.1794)\n",
      "\n",
      "Epoch 10/10\n",
      "--------------------\n"
     ]
    },
    {
     "name": "stderr",
     "output_type": "stream",
     "text": [
      "Epoch 10/10 [Train]: 100%|██████████| 7/7 [00:00<00:00, 88.08it/s, loss=0.0654, acc=0.9975]\n",
      "Epoch 10/10 [Val]: 100%|██████████| 2/2 [00:00<00:00, 234.85it/s, loss=0.1757, acc=0.9400]\n"
     ]
    },
    {
     "name": "stdout",
     "output_type": "stream",
     "text": [
      "Train Loss: 0.0654 | Train Acc: 0.9975\n",
      "Val Loss: 0.1757 | Val Acc: 0.9400\n",
      "New best model (val_loss: 0.1757)\n",
      "\n",
      "Training completed in 0m 6s\n",
      "Best validation loss: 0.1757\n"
     ]
    }
   ],
   "source": [
    "history, trained_model = train_model(\n",
    "    model=model,\n",
    "    train_loader=train_loader,\n",
    "    val_loader=val_loader,\n",
    "    criterion=criterion,\n",
    "    optimizer=optimizer,\n",
    "    device=DEVICE,\n",
    "    num_epochs=10,\n",
    ")"
   ]
  },
  {
   "cell_type": "code",
   "execution_count": null,
   "id": "66bc9bd3",
   "metadata": {},
   "outputs": [],
   "source": []
  }
 ],
 "metadata": {
  "kernelspec": {
   "display_name": ".venv",
   "language": "python",
   "name": "python3"
  },
  "language_info": {
   "codemirror_mode": {
    "name": "ipython",
    "version": 3
   },
   "file_extension": ".py",
   "mimetype": "text/x-python",
   "name": "python",
   "nbconvert_exporter": "python",
   "pygments_lexer": "ipython3",
   "version": "3.13.3"
  }
 },
 "nbformat": 4,
 "nbformat_minor": 5
}
